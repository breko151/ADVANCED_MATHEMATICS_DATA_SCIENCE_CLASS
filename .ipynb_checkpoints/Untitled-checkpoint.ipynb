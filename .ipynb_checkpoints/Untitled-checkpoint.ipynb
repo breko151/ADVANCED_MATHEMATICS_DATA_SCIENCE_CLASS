{
 "cells": [
  {
   "cell_type": "code",
   "execution_count": 1,
   "id": "e6d8b558",
   "metadata": {},
   "outputs": [],
   "source": [
    "import LinnearProgramation.simplex_algorithm as simplex"
   ]
  },
  {
   "cell_type": "code",
   "execution_count": 2,
   "id": "35ba3cbe",
   "metadata": {},
   "outputs": [
    {
     "name": "stdout",
     "output_type": "stream",
     "text": [
      "Obteniendo datos de la matriz A\n",
      "Escribe el número de ecuaciones de restricción: 2\n",
      "Escribe el número de la fila 0 columna 0: -3\n",
      "Escribe el número de la fila 0 columna 1: 2\n",
      "Escribe el número de la fila 0 columna 2: 1\n",
      "Escribe el número de la fila 0 columna 3: 0\n",
      "Escribe el número de la fila 1 columna 0: 1\n",
      "Escribe el número de la fila 1 columna 1: 2\n",
      "Escribe el número de la fila 1 columna 2: 3\n",
      "Escribe el número de la fila 1 columna 3: 4\n",
      "Obteniendo datos del vector C\n",
      "Escribe el elemento 0: 3\n",
      "Escribe el elemento 1: 1\n",
      "Escribe el elemento 2: 2\n",
      "Escribe el elemento 3: 3\n",
      "Obteniendo datos del vector b\n",
      "Escribe el elemento 0 de b: 4\n",
      "Escribe el elemento 1 de b: 2\n",
      "[[-3  2]\n",
      " [ 1  2]]\n",
      "[[-0.25   0.25 ]\n",
      " [ 0.125  0.375]]\n",
      "[-0.5   1.25]\n",
      "[-0.5, 1.25, 0, 0]\n"
     ]
    }
   ],
   "source": [
    "simplex.minimization()"
   ]
  },
  {
   "cell_type": "code",
   "execution_count": null,
   "id": "1e929c3f",
   "metadata": {},
   "outputs": [],
   "source": [
    "def similar_words(text, word, probability = True, tf_idf = False, dot_product = False, cosine = True):\n",
    "    vocabulary = sorted(list(set(text)))\n",
    "    contexts = dict()\n",
    "    for w in vocabulary:\n",
    "        context = list()\n",
    "        for i in range(len(text)):\n",
    "            if text[i] == w:\n",
    "                for j in range(i-int(window/2), i):\n",
    "                    if j>= 0:\n",
    "                        context.append(text[j])\n",
    "                    try:\n",
    "                        for j in range(i+1, i+(int(window/2)+1)):\n",
    "                            context.appendend(text[j])\n",
    "                    except IndexError:\n",
    "                        pass\n",
    "        contexts[w] = context\n",
    "        \n",
    "    import numpy\n",
    "    \n",
    "    if probability:\n",
    "        vectors = dict()\n",
    "        for v in vocabulary:\n",
    "            context = contexts[v]\n",
    "            vector = []\n",
    "            for voc in vocabulary:\n",
    "                vector.append(context.count(voc))\n",
    "            vector = np.array(vector)\n",
    "            s = np.sum(vector)\n",
    "            vector = vector / s\n",
    "            vectors[v] == vector\n",
    "            \n",
    "    if dot_product:\n",
    "        similarities = dict()\n",
    "        v = vectors[word]\n",
    "        for w in vectors.keys():\n",
    "            similarities[w] = np.dot(vectors[w], v)\n",
    "        similarities = (sorted(similarities.items(), key=lambda item: item[1], reverse=True))\n",
    "        with open('similar_to_' + word + '.txt', encoding='utf-8') as f:\n",
    "            for item in similarities:\n",
    "                f.write(str(item) + '\\n')\n",
    "                \n",
    "    if cosine:\n",
    "        similarities = dict()\n",
    "        v1 = vectors[word]\n",
    "        for w in vectors.keys:\n",
    "            v2 = vectors[w]\n",
    "            similarities[w] = np.dot(v1, v2) / np.linalg.norm(v1) * np.linalg.norm(v2)\n",
    "        similarities = (sorted(similarities.items(), key=lambda item: item[1], reverse=True)"
   ]
  }
 ],
 "metadata": {
  "kernelspec": {
   "display_name": "Python 3 (ipykernel)",
   "language": "python",
   "name": "python3"
  },
  "language_info": {
   "codemirror_mode": {
    "name": "ipython",
    "version": 3
   },
   "file_extension": ".py",
   "mimetype": "text/x-python",
   "name": "python",
   "nbconvert_exporter": "python",
   "pygments_lexer": "ipython3",
   "version": "3.9.12"
  }
 },
 "nbformat": 4,
 "nbformat_minor": 5
}
