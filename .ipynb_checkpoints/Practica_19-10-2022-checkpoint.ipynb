{
 "cells": [
  {
   "cell_type": "markdown",
   "metadata": {},
   "source": [
    "# Algoritmo Simplex por Tabulado\n",
    "**Suárez Pérez Juan Pablo**"
   ]
  },
  {
   "cell_type": "markdown",
   "metadata": {},
   "source": [
    "Minimizar:  \n",
    "$x_{1}+x_{2}-4x_{3}.$  \n",
    "  \n",
    "Sujeto a:  \n",
    "$x_1+x_2+2x_3\\leq9.$  \n",
    "$x_1+x_2-x_3\\leq2.$  \n",
    "$-x_1+x_2+x_3\\leq4.$  \n",
    "$x_1,x_2,x_3,\\geq0.$"
   ]
  },
  {
   "cell_type": "markdown",
   "metadata": {},
   "source": [
    "Introducimos las variables de holgura:  \n",
    "$x_1+x_2-4x_3+0x_4+0x_5+0x_6.$  \n",
    "$x_1+x_2+2x_3+x_4+0x_5+0x_6=9.$  \n",
    "$x_1+x_2-x_3+0x_4+x_5+0x_6=2.$  \n",
    "$-x_1+x_2+x_3+0x_4+0x_5+x_6=4.$  \n",
    "$x_1,x_2,x_3,x_4,x_5,x_6\\geq0$ "
   ]
  },
  {
   "cell_type": "code",
   "execution_count": 1,
   "metadata": {},
   "outputs": [],
   "source": [
    "import numpy as np"
   ]
  },
  {
   "cell_type": "code",
   "execution_count": 2,
   "metadata": {},
   "outputs": [],
   "source": [
    "A = np.array([[1, 1, 2, 1, 0, 0], \n",
    "              [1, 1, -1, 0, 1, 0],\n",
    "              [-1, 1, 1, 0, 0, 1],])"
   ]
  },
  {
   "cell_type": "code",
   "execution_count": 8,
   "metadata": {},
   "outputs": [],
   "source": [
    "B = np.array([[1, 0, 0],\n",
    "             [0, 1, 0],\n",
    "             [0, 0, 1]])"
   ]
  },
  {
   "cell_type": "code",
   "execution_count": 18,
   "metadata": {},
   "outputs": [],
   "source": [
    "N = np.array([[1, 1, 2],\n",
    "              [1, 1, -1],\n",
    "              [-1, 1, 1]])"
   ]
  },
  {
   "cell_type": "code",
   "execution_count": 4,
   "metadata": {},
   "outputs": [],
   "source": [
    "C = np.array([1, 1, -4, 0, 0, 0])\n",
    "CN = np.array([1, 1, -4])\n",
    "CB = np.array([0, 0, 0])"
   ]
  },
  {
   "cell_type": "code",
   "execution_count": 6,
   "metadata": {},
   "outputs": [],
   "source": [
    "b = np.array([9, 2, 4])"
   ]
  },
  {
   "cell_type": "code",
   "execution_count": 17,
   "metadata": {},
   "outputs": [],
   "source": [
    "b_ = np.linalg.inv(B) @ b"
   ]
  },
  {
   "cell_type": "code",
   "execution_count": 13,
   "metadata": {},
   "outputs": [],
   "source": [
    "one_array = np.ones(1, dtype=int)\n",
    "identity_matrix = np.eye(3)\n",
    "zero_array = np.zeros(3, dtype=int)"
   ]
  },
  {
   "cell_type": "code",
   "execution_count": 26,
   "metadata": {},
   "outputs": [],
   "source": [
    "ZXN = CB @ np.linalg.inv(B) @ N - CN\n",
    "XBXN = np.linalg.inv(B) @ N\n",
    "ZRHS = CB @ b_\n",
    "XBRHS = b_ "
   ]
  },
  {
   "cell_type": "code",
   "execution_count": 28,
   "metadata": {},
   "outputs": [],
   "source": [
    "TABLE = [[one_array, zero_array, ZXN, ZRHS], \n",
    "        [zero_array, identity_matrix, XBXN, XBRHS]]"
   ]
  },
  {
   "cell_type": "code",
   "execution_count": 30,
   "metadata": {},
   "outputs": [
    {
     "name": "stdout",
     "output_type": "stream",
     "text": [
      "[[array([1]), array([0, 0, 0]), array([-1., -1.,  4.]), 0.0], [array([0, 0, 0]), array([[1., 0., 0.],\n",
      "       [0., 1., 0.],\n",
      "       [0., 0., 1.]]), array([[ 1.,  1.,  2.],\n",
      "       [ 1.,  1., -1.],\n",
      "       [-1.,  1.,  1.]]), array([9., 2., 4.])]]\n"
     ]
    }
   ],
   "source": [
    "print(TABLE)"
   ]
  },
  {
   "cell_type": "code",
   "execution_count": 33,
   "metadata": {},
   "outputs": [
    {
     "data": {
      "text/plain": [
       "-1.0"
      ]
     },
     "execution_count": 33,
     "metadata": {},
     "output_type": "execute_result"
    }
   ],
   "source": [
    "min(TABLE[0][2])"
   ]
  }
 ],
 "metadata": {
  "kernelspec": {
   "display_name": "Python 3 (ipykernel)",
   "language": "python",
   "name": "python3"
  },
  "language_info": {
   "codemirror_mode": {
    "name": "ipython",
    "version": 3
   },
   "file_extension": ".py",
   "mimetype": "text/x-python",
   "name": "python",
   "nbconvert_exporter": "python",
   "pygments_lexer": "ipython3",
   "version": "3.9.12"
  },
  "vscode": {
   "interpreter": {
    "hash": "cd1fd7730a3ff7811bc6623d31c907c7b97c986d3e82d3b9938e7dcbaa66e63f"
   }
  }
 },
 "nbformat": 4,
 "nbformat_minor": 2
}
