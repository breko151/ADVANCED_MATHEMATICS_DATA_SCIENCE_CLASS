{
 "cells": [
  {
   "cell_type": "markdown",
   "id": "64e76830",
   "metadata": {},
   "source": [
    "# Práctica 24/08/2022 "
   ]
  },
  {
   "cell_type": "code",
   "execution_count": 1,
   "id": "4116dc41",
   "metadata": {},
   "outputs": [],
   "source": [
    "import math\n",
    "import numpy\n",
    "import pandas\n",
    "import matplotlib.pyplot as plt"
   ]
  },
  {
   "cell_type": "code",
   "execution_count": 2,
   "id": "711e0f9d",
   "metadata": {},
   "outputs": [
    {
     "name": "stdout",
     "output_type": "stream",
     "text": [
      "3.141592653589793\n",
      "2.718281828459045\n"
     ]
    }
   ],
   "source": [
    "print(math.pi)\n",
    "print(math.e)"
   ]
  },
  {
   "cell_type": "code",
   "execution_count": 3,
   "id": "5f5c4ce8",
   "metadata": {},
   "outputs": [
    {
     "name": "stdout",
     "output_type": "stream",
     "text": [
      "inf\n"
     ]
    }
   ],
   "source": [
    "print(math.inf)"
   ]
  },
  {
   "cell_type": "code",
   "execution_count": 4,
   "id": "0436629d",
   "metadata": {},
   "outputs": [
    {
     "name": "stdout",
     "output_type": "stream",
     "text": [
      "-inf\n"
     ]
    }
   ],
   "source": [
    "print(-math.inf)"
   ]
  },
  {
   "cell_type": "code",
   "execution_count": 5,
   "id": "05b886de",
   "metadata": {},
   "outputs": [
    {
     "data": {
      "text/plain": [
       "nan"
      ]
     },
     "execution_count": 5,
     "metadata": {},
     "output_type": "execute_result"
    }
   ],
   "source": [
    "math.nan"
   ]
  },
  {
   "cell_type": "code",
   "execution_count": 6,
   "id": "8de94bd9",
   "metadata": {},
   "outputs": [
    {
     "data": {
      "text/plain": [
       "5.89915248150105"
      ]
     },
     "execution_count": 6,
     "metadata": {},
     "output_type": "execute_result"
    }
   ],
   "source": [
    "math.sqrt(34.8)"
   ]
  },
  {
   "cell_type": "code",
   "execution_count": 7,
   "id": "898228d4",
   "metadata": {},
   "outputs": [],
   "source": [
    "from __future__ import division"
   ]
  },
  {
   "cell_type": "code",
   "execution_count": 8,
   "id": "39bb3851",
   "metadata": {},
   "outputs": [
    {
     "data": {
      "text/plain": [
       "0.3333333333333333"
      ]
     },
     "execution_count": 8,
     "metadata": {},
     "output_type": "execute_result"
    }
   ],
   "source": [
    "1 / 3"
   ]
  },
  {
   "cell_type": "code",
   "execution_count": 9,
   "id": "42fd2dd8",
   "metadata": {},
   "outputs": [
    {
     "name": "stdout",
     "output_type": "stream",
     "text": [
      "Hubo error del tipo: math domain error\n"
     ]
    }
   ],
   "source": [
    "try:\n",
    "    math.sqrt(-24.3)\n",
    "except Exception as e:\n",
    "    print('Hubo error del tipo:', e)"
   ]
  },
  {
   "cell_type": "code",
   "execution_count": 10,
   "id": "ad8dafa5",
   "metadata": {},
   "outputs": [
    {
     "data": {
      "text/plain": [
       "0"
      ]
     },
     "execution_count": 10,
     "metadata": {},
     "output_type": "execute_result"
    }
   ],
   "source": [
    "2 // 3"
   ]
  },
  {
   "cell_type": "code",
   "execution_count": 11,
   "id": "6bb9c379",
   "metadata": {},
   "outputs": [
    {
     "data": {
      "text/plain": [
       "0.6666666666666666"
      ]
     },
     "execution_count": 11,
     "metadata": {},
     "output_type": "execute_result"
    }
   ],
   "source": [
    "2 / 3"
   ]
  },
  {
   "cell_type": "code",
   "execution_count": 12,
   "id": "e2c53577",
   "metadata": {},
   "outputs": [
    {
     "data": {
      "text/plain": [
       "1.0"
      ]
     },
     "execution_count": 12,
     "metadata": {},
     "output_type": "execute_result"
    }
   ],
   "source": [
    "math.fmod(4, 3)"
   ]
  },
  {
   "cell_type": "code",
   "execution_count": 13,
   "id": "58acb7af",
   "metadata": {},
   "outputs": [
    {
     "data": {
      "text/plain": [
       "1.0"
      ]
     },
     "execution_count": 13,
     "metadata": {},
     "output_type": "execute_result"
    }
   ],
   "source": [
    "math.remainder(4, 3)"
   ]
  },
  {
   "cell_type": "markdown",
   "id": "290dc06f",
   "metadata": {},
   "source": [
    "## Ejercicio 1 "
   ]
  },
  {
   "cell_type": "code",
   "execution_count": 14,
   "id": "eb5e5704",
   "metadata": {},
   "outputs": [],
   "source": [
    "class Tarjeta:\n",
    "    \n",
    "    def __init__(self, cliente = 'Pablo', banco = 'Coppel', cuenta = '123412', cod_seg = '1245', limit = 20000, balance = 10000):\n",
    "        self._cliente = cliente\n",
    "        self._banco = banco\n",
    "        self._cuenta = cuenta\n",
    "        self._cod_seg = cod_seg\n",
    "        self._limit = limit\n",
    "        self._balance = balance \n",
    "    \n",
    "    def charge(self, price):\n",
    "        if price + self._balance <= self._limit:\n",
    "            self._balance = self._balance + price\n",
    "            print('Compra Aceptada')\n",
    "        else:\n",
    "            print('Compra Denegada')\n",
    "    \n",
    "    def pay(self, quantity):\n",
    "        if self._balance >= quantity:\n",
    "            self._balance = self._balance - quantity\n",
    "            print('Debes la siguiente cantidad:', self._balance)"
   ]
  },
  {
   "cell_type": "code",
   "execution_count": 15,
   "id": "e36bff27",
   "metadata": {},
   "outputs": [],
   "source": [
    "Pablo_tarjeta = Tarjeta()"
   ]
  },
  {
   "cell_type": "code",
   "execution_count": 16,
   "id": "882f8e89",
   "metadata": {},
   "outputs": [
    {
     "data": {
      "text/plain": [
       "10000"
      ]
     },
     "execution_count": 16,
     "metadata": {},
     "output_type": "execute_result"
    }
   ],
   "source": [
    "Pablo_tarjeta._balance"
   ]
  },
  {
   "cell_type": "code",
   "execution_count": 17,
   "id": "3561d38e",
   "metadata": {},
   "outputs": [
    {
     "name": "stdout",
     "output_type": "stream",
     "text": [
      "Compra Aceptada\n"
     ]
    }
   ],
   "source": [
    "Pablo_tarjeta.charge(1000)"
   ]
  },
  {
   "cell_type": "code",
   "execution_count": 18,
   "id": "00b486af",
   "metadata": {},
   "outputs": [
    {
     "data": {
      "text/plain": [
       "11000"
      ]
     },
     "execution_count": 18,
     "metadata": {},
     "output_type": "execute_result"
    }
   ],
   "source": [
    "Pablo_tarjeta._balance"
   ]
  },
  {
   "cell_type": "code",
   "execution_count": 19,
   "id": "70d3875c",
   "metadata": {},
   "outputs": [
    {
     "name": "stdout",
     "output_type": "stream",
     "text": [
      "Debes la siguiente cantidad: 10900\n"
     ]
    }
   ],
   "source": [
    "Pablo_tarjeta.pay(100)"
   ]
  },
  {
   "cell_type": "markdown",
   "id": "eed7e009",
   "metadata": {},
   "source": [
    "## Ejercicio 2"
   ]
  },
  {
   "cell_type": "code",
   "execution_count": 20,
   "id": "97a4413f",
   "metadata": {},
   "outputs": [],
   "source": [
    "class Persona:\n",
    "    \n",
    "    def __init__(self, nombre, edad, genero, peso, estatura):\n",
    "        self._nombre = nombre\n",
    "        self._edad = edad\n",
    "        self._genero = genero\n",
    "        self._peso = peso\n",
    "        self._estatura = estatura\n",
    "        \n",
    "    def cumple_edad(self):\n",
    "        self._edad = self._edad + 1\n",
    "        \n",
    "    def dieta(self, cantidad, deseo):\n",
    "        if deseo[0] == 's':\n",
    "            self._peso = self._peso + cantidad\n",
    "        else:\n",
    "            self._peso = self._peso - cantidad\n",
    "            \n",
    "    def __str__(self):\n",
    "        cadena = \"Nombre: {0}\\n\".format(self._nombre)  \n",
    "        cadena = cadena + \"Edad: {0}\\n\".format(self._edad)\n",
    "        cadena = cadena + \"Género: {0}\\n\".format(self._genero)\n",
    "        cadena = cadena + \"Peso: {0}\\n\".format(self._peso)\n",
    "        cadena = cadena + \"Estatura: {0}\\n\".format(self._estatura)\n",
    "        return cadena"
   ]
  },
  {
   "cell_type": "code",
   "execution_count": 21,
   "id": "511d1cd1",
   "metadata": {},
   "outputs": [],
   "source": [
    "pablo = Persona('Pablo', 20, 'M', 67, 1.73)"
   ]
  },
  {
   "cell_type": "code",
   "execution_count": 22,
   "id": "114107da",
   "metadata": {},
   "outputs": [],
   "source": [
    "pablo.cumple_edad()"
   ]
  },
  {
   "cell_type": "code",
   "execution_count": 23,
   "id": "6a319770",
   "metadata": {},
   "outputs": [
    {
     "data": {
      "text/plain": [
       "21"
      ]
     },
     "execution_count": 23,
     "metadata": {},
     "output_type": "execute_result"
    }
   ],
   "source": [
    "pablo._edad"
   ]
  },
  {
   "cell_type": "code",
   "execution_count": 24,
   "id": "449e197d",
   "metadata": {},
   "outputs": [],
   "source": [
    "pablo.dieta(10, 's')"
   ]
  },
  {
   "cell_type": "code",
   "execution_count": 25,
   "id": "2bd2ed4e",
   "metadata": {},
   "outputs": [
    {
     "data": {
      "text/plain": [
       "77"
      ]
     },
     "execution_count": 25,
     "metadata": {},
     "output_type": "execute_result"
    }
   ],
   "source": [
    "pablo._peso"
   ]
  },
  {
   "cell_type": "code",
   "execution_count": 26,
   "id": "1f21432b",
   "metadata": {},
   "outputs": [
    {
     "name": "stdout",
     "output_type": "stream",
     "text": [
      "Nombre: Pablo\n",
      "Edad: 21\n",
      "Género: M\n",
      "Peso: 77\n",
      "Estatura: 1.73\n",
      "\n"
     ]
    }
   ],
   "source": [
    "print(pablo)"
   ]
  },
  {
   "cell_type": "code",
   "execution_count": 27,
   "id": "fc80d3c0",
   "metadata": {},
   "outputs": [],
   "source": [
    "from datetime import datetime ,timedelta\n",
    "\n",
    "class Fecha:\n",
    "    \n",
    "    def __init__(self, fecha = 2017, segundos = 35 * 10 ** 6):\n",
    "        self._fecha = datetime(fecha, 1, 1)\n",
    "        self._segundos = segundos\n",
    "        self._resultado = self._fecha + timedelta(seconds = 0)\n",
    "        \n",
    "    def increment(self, seg=360000000):\n",
    "        self._resultado = self._fecha + timedelta(seconds = self._segundos)\n",
    "        \n",
    "    def imprimir_fecha(self):\n",
    "        print('El resultado:', self._resultado)"
   ]
  },
  {
   "cell_type": "code",
   "execution_count": 28,
   "id": "f9659d3c",
   "metadata": {},
   "outputs": [
    {
     "name": "stdout",
     "output_type": "stream",
     "text": [
      "El resultado: 2017-01-01 00:00:00\n"
     ]
    }
   ],
   "source": [
    "fecha1 = Fecha()\n",
    "fecha1.imprimir_fecha()"
   ]
  },
  {
   "cell_type": "code",
   "execution_count": 29,
   "id": "38eaa418",
   "metadata": {},
   "outputs": [],
   "source": [
    "fecha1.increment(350000000)"
   ]
  },
  {
   "cell_type": "code",
   "execution_count": 30,
   "id": "481bdd9a",
   "metadata": {},
   "outputs": [
    {
     "name": "stdout",
     "output_type": "stream",
     "text": [
      "El resultado: 2018-02-10 02:13:20\n"
     ]
    }
   ],
   "source": [
    "fecha1.imprimir_fecha()"
   ]
  }
 ],
 "metadata": {
  "kernelspec": {
   "display_name": "Python 3 (ipykernel)",
   "language": "python",
   "name": "python3"
  },
  "language_info": {
   "codemirror_mode": {
    "name": "ipython",
    "version": 3
   },
   "file_extension": ".py",
   "mimetype": "text/x-python",
   "name": "python",
   "nbconvert_exporter": "python",
   "pygments_lexer": "ipython3",
   "version": "3.9.12"
  }
 },
 "nbformat": 4,
 "nbformat_minor": 5
}
