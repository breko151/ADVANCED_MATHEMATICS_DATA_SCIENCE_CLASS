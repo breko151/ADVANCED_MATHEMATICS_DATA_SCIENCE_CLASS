{
 "cells": [
  {
   "cell_type": "code",
   "execution_count": 1,
   "id": "e6d8b558",
   "metadata": {},
   "outputs": [],
   "source": [
    "import LinnearProgramation.simplex_algorithm as simplex\n",
    "import LinnearProgramation.simplex_algorithm_tabulate as tabulate\n",
    "import numpy as np\n",
    "import copy"
   ]
  },
  {
   "cell_type": "code",
   "execution_count": 2,
   "id": "35ba3cbe",
   "metadata": {},
   "outputs": [],
   "source": [
    "# Numpy Configurations\n",
    "np.set_printoptions(precision=4, edgeitems=10)\n",
    "np.core.arrayprint._line_width = 180"
   ]
  },
  {
   "cell_type": "markdown",
   "id": "610870b3",
   "metadata": {},
   "source": [
    "### Simplex"
   ]
  },
  {
   "cell_type": "code",
   "execution_count": 3,
   "id": "1e929c3f",
   "metadata": {},
   "outputs": [],
   "source": [
    "A = np.matrix([[1, 0, 1, 2], [0, 1, 0, 1]])\n",
    "b = np.array([4, 1])\n",
    "c = np.array([0, 0, 1, 1])\n",
    "variables = [\"x3\", \"x4\", \"x1\", \"x2\"]"
   ]
  },
  {
   "cell_type": "code",
   "execution_count": 4,
   "id": "13ad38dc",
   "metadata": {},
   "outputs": [
    {
     "name": "stdout",
     "output_type": "stream",
     "text": [
      "\n",
      "\n",
      "\u001b[1mIteration  1 \u001b[0m\n",
      "[\u001b[94m x_B \u001b[0m, \u001b[91m x_N \u001b[0m] = [ \u001b[94mx3, x4\u001b[0m, \u001b[91mx1, x2\u001b[0m ]\n",
      "\n",
      "Matrix A\n",
      "[[1 0 1 2]\n",
      " [0 1 0 1]]\n",
      "\n",
      "Vector b\n",
      "[4 1]\n",
      "\n",
      "Vector c\n",
      "[0 0 1 1]\n",
      "\n",
      "Basis\n",
      "[[1 0]\n",
      " [0 1]]\n",
      "\n",
      "Basis Inverse\n",
      "[[1. 0.]\n",
      " [0. 1.]]\n",
      "\n",
      "BFS\n",
      "[4. 1. 0. 0.]\n",
      "\n",
      "\n",
      "\u001b[1mOptimality reached\u001b[0m\n",
      "\n",
      "The optimal BFS is\n",
      "\u001b[92m[ x3, x4, x1, x2 ] = [ 4.0, 1.0, 0.0, 0.0 ]\u001b[0m\n",
      "\n",
      "With performance z = 0.0\n"
     ]
    }
   ],
   "source": [
    "simplex.simplex(copy.deepcopy(A), copy.deepcopy(b), copy.deepcopy(c), copy.deepcopy(variables))"
   ]
  },
  {
   "cell_type": "markdown",
   "id": "f33ff357",
   "metadata": {},
   "source": [
    "### Simplex Tabulate"
   ]
  },
  {
   "cell_type": "code",
   "execution_count": 5,
   "id": "50f94c67",
   "metadata": {},
   "outputs": [],
   "source": [
    "A = np.matrix([[1, 2, 1, 0], [0, 1, 0, 1]])\n",
    "b = np.array([4, 1])\n",
    "c = np.array([1, 1, 0, 0])\n",
    "variables = ['x' + str(i) for i in range(1, len(c) + 1)]\n",
    "m, n = np.shape(A)\n",
    "basic_indexes = range(m, n)\n",
    "non_basic_indexes = range(m)"
   ]
  },
  {
   "cell_type": "code",
   "execution_count": 6,
   "id": "0f389215",
   "metadata": {},
   "outputs": [],
   "source": [
    "tableau, basic_variables, non_basic_variables = tabulate.generate_table(A, b, c, variables, basic_indexes, non_basic_indexes, m, n)"
   ]
  },
  {
   "cell_type": "code",
   "execution_count": 7,
   "id": "578ab5a7",
   "metadata": {},
   "outputs": [
    {
     "name": "stdout",
     "output_type": "stream",
     "text": [
      "\n",
      "\n",
      "\u001b[1mIteration  1 \u001b[0m\n",
      "[\u001b[94m x_B \u001b[0m, \u001b[91m x_N \u001b[0m] = [ \u001b[94mx3, x4\u001b[0m, \u001b[91mx1, x2\u001b[0m ]\n",
      "\n",
      "\n",
      "Entry tableau\n",
      "[[ 1.  0.  0. -1. -1.  0.]\n",
      " [ 0.  1.  0.  1.  2.  4.]\n",
      " [ 0.  0.  1.  0.  1.  1.]]\n",
      "\n",
      "\n",
      "\u001b[1mOptimality reached\u001b[0m\n",
      "\n",
      "The optimal BFS is\n",
      "\u001b[92m[ x3, x4, x1, x2 ] = [ 4.0, 1.0, 0.0, 0.0 ]\u001b[0m\n",
      "\n",
      "With performance z = 0.0\n"
     ]
    }
   ],
   "source": [
    "tabulate.simplex_tableau(copy.deepcopy(tableau), copy.deepcopy(basic_variables), copy.deepcopy(non_basic_variables))"
   ]
  }
 ],
 "metadata": {
  "kernelspec": {
   "display_name": "Python 3 (ipykernel)",
   "language": "python",
   "name": "python3"
  },
  "language_info": {
   "codemirror_mode": {
    "name": "ipython",
    "version": 3
   },
   "file_extension": ".py",
   "mimetype": "text/x-python",
   "name": "python",
   "nbconvert_exporter": "python",
   "pygments_lexer": "ipython3",
   "version": "3.9.12"
  }
 },
 "nbformat": 4,
 "nbformat_minor": 5
}
