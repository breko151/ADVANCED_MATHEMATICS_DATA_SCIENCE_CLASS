{
 "cells": [
  {
   "cell_type": "code",
   "execution_count": 1,
   "id": "e6d8b558",
   "metadata": {},
   "outputs": [],
   "source": [
    "import LinnearProgramation.simplex_algorithm as simplex"
   ]
  },
  {
   "cell_type": "code",
   "execution_count": 2,
   "id": "35ba3cbe",
   "metadata": {},
   "outputs": [
    {
     "name": "stdout",
     "output_type": "stream",
     "text": [
      "Obteniendo datos de la matriz A\n",
      "Escribe el número de ecuaciones de restricción: 2\n",
      "Escribe el número de la fila 0 columna 0: -3\n",
      "Escribe el número de la fila 0 columna 1: 2\n",
      "Escribe el número de la fila 0 columna 2: 1\n",
      "Escribe el número de la fila 0 columna 3: 0\n",
      "Escribe el número de la fila 1 columna 0: 1\n",
      "Escribe el número de la fila 1 columna 1: 2\n",
      "Escribe el número de la fila 1 columna 2: 3\n",
      "Escribe el número de la fila 1 columna 3: 4\n",
      "Obteniendo datos del vector C\n",
      "Escribe el elemento 0: 3\n",
      "Escribe el elemento 1: 1\n",
      "Escribe el elemento 2: 2\n",
      "Escribe el elemento 3: 3\n",
      "Obteniendo datos del vector b\n",
      "Escribe el elemento 0 de b: 4\n",
      "Escribe el elemento 1 de b: 2\n",
      "[[-3  2]\n",
      " [ 1  2]]\n",
      "[[-0.25   0.25 ]\n",
      " [ 0.125  0.375]]\n",
      "[-0.5   1.25]\n",
      "[-0.5, 1.25, 0, 0]\n"
     ]
    }
   ],
   "source": [
    "simplex.minimization()"
   ]
  },
  {
   "cell_type": "code",
   "execution_count": 1,
   "id": "1e929c3f",
   "metadata": {},
   "outputs": [],
   "source": [
    "a = {'a':'b', 'b':'c'}"
   ]
  },
  {
   "cell_type": "code",
   "execution_count": 3,
   "id": "13ad38dc",
   "metadata": {},
   "outputs": [
    {
     "data": {
      "text/plain": [
       "<function dict.keys>"
      ]
     },
     "execution_count": 3,
     "metadata": {},
     "output_type": "execute_result"
    }
   ],
   "source": [
    "a.keys"
   ]
  }
 ],
 "metadata": {
  "kernelspec": {
   "display_name": "Python 3 (ipykernel)",
   "language": "python",
   "name": "python3"
  },
  "language_info": {
   "codemirror_mode": {
    "name": "ipython",
    "version": 3
   },
   "file_extension": ".py",
   "mimetype": "text/x-python",
   "name": "python",
   "nbconvert_exporter": "python",
   "pygments_lexer": "ipython3",
   "version": "3.9.12"
  }
 },
 "nbformat": 4,
 "nbformat_minor": 5
}
